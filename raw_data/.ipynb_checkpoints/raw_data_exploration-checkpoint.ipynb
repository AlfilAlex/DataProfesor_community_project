{
 "cells": [
  {
   "cell_type": "markdown",
   "id": "e4dda92d",
   "metadata": {},
   "source": [
    "# Raw data analisys\n",
    "In this section we will analice the difference between the molecules label as actives or inactives in the column \"Comment\"."
   ]
  },
  {
   "cell_type": "code",
   "execution_count": 1,
   "id": "f023d7dc",
   "metadata": {},
   "outputs": [
    {
     "name": "stdout",
     "output_type": "stream",
     "text": [
      "molecule_activity.csv  molecule_description.csv  raw_data_exploration.ipynb\r\n"
     ]
    }
   ],
   "source": [
    "import pandas as pd\n",
    "pd.options.display.max_columns = None\n",
    "\n",
    "!ls"
   ]
  },
  {
   "cell_type": "code",
   "execution_count": 2,
   "id": "48648fbf",
   "metadata": {},
   "outputs": [],
   "source": [
    "df = pd.read_csv('./molecule_activity.csv',sep=';')"
   ]
  },
  {
   "cell_type": "markdown",
   "id": "1bc79b7f",
   "metadata": {},
   "source": [
    "## Split of the data set into 3 cataegaories:\n",
    "The main idea is to substract from the undifined set, the molecules that are likely actives or inactives not using a simply pChEMBL value cutoff.\n",
    "\n",
    "* Actives\n",
    "* Inactives\n",
    "* Inconclusive\n",
    "\n"
   ]
  },
  {
   "cell_type": "code",
   "execution_count": 4,
   "id": "31c0d873",
   "metadata": {},
   "outputs": [
    {
     "data": {
      "text/plain": [
       "Inconclusive               52677\n",
       "Not Active                  8951\n",
       "Active                       165\n",
       "Not Determined                 7\n",
       "Not applicable                 4\n",
       "Hydrolysis not detected        2\n",
       "324165                         1\n",
       "324147                         1\n",
       "324209                         1\n",
       "324191                         1\n",
       "Name: Comment, dtype: int64"
      ]
     },
     "execution_count": 4,
     "metadata": {},
     "output_type": "execute_result"
    }
   ],
   "source": [
    "df.Comment.value_counts().head(10)"
   ]
  },
  {
   "cell_type": "markdown",
   "id": "622f1d70",
   "metadata": {},
   "source": [
    "As we can se, the most repeted values are Inconclusive, Not active, and Active ones. The rest of values are goint to be deleted from the data set since they are ambiguos.\n",
    "\n",
    "First, we are going to analysis the values of the actives and inactives in the same dataframe."
   ]
  },
  {
   "cell_type": "code",
   "execution_count": 80,
   "id": "ae1db4c9",
   "metadata": {},
   "outputs": [],
   "source": [
    "df_inconclusive = df[(df.Comment == 'Inconclusive')]\n",
    "df_act_inac = df[(df.Comment == 'Active') | (df.Comment == 'Not Active')]"
   ]
  },
  {
   "cell_type": "markdown",
   "id": "937b4ae1",
   "metadata": {},
   "source": [
    "## pChEMBL value in the active and inactive sets\n",
    "As the value of the pChEMBL was proposed as the main distintion for active molecules and inactives, it would be pertinet to actually check if it is a good idea."
   ]
  },
  {
   "cell_type": "code",
   "execution_count": 7,
   "id": "6e0dd05f",
   "metadata": {},
   "outputs": [],
   "source": [
    "df_count = df_act_inac.groupby(['Standard Type', 'Comment']).count()[['pChEMBL Value', 'Standard Value']]\n",
    "df_mean = df_act_inac.groupby(['Standard Type', 'Comment']).mean()[['pChEMBL Value', 'Standard Value']]\n",
    "df_std = df_act_inac.groupby(['Standard Type', 'Comment']).std()[['pChEMBL Value', 'Standard Value']]"
   ]
  },
  {
   "cell_type": "markdown",
   "id": "2cc58445",
   "metadata": {},
   "source": [
    "### Count grouping by 'Standard Type' and 'Comment'"
   ]
  },
  {
   "cell_type": "code",
   "execution_count": 8,
   "id": "b3bc2df0",
   "metadata": {},
   "outputs": [
    {
     "data": {
      "text/html": [
       "<div>\n",
       "<style scoped>\n",
       "    .dataframe tbody tr th:only-of-type {\n",
       "        vertical-align: middle;\n",
       "    }\n",
       "\n",
       "    .dataframe tbody tr th {\n",
       "        vertical-align: top;\n",
       "    }\n",
       "\n",
       "    .dataframe thead th {\n",
       "        text-align: right;\n",
       "    }\n",
       "</style>\n",
       "<table border=\"1\" class=\"dataframe\">\n",
       "  <thead>\n",
       "    <tr style=\"text-align: right;\">\n",
       "      <th></th>\n",
       "      <th></th>\n",
       "      <th>pChEMBL Value</th>\n",
       "      <th>Standard Value</th>\n",
       "    </tr>\n",
       "    <tr>\n",
       "      <th>Standard Type</th>\n",
       "      <th>Comment</th>\n",
       "      <th></th>\n",
       "      <th></th>\n",
       "    </tr>\n",
       "  </thead>\n",
       "  <tbody>\n",
       "    <tr>\n",
       "      <th>IC50</th>\n",
       "      <th>Not Active</th>\n",
       "      <td>0</td>\n",
       "      <td>0</td>\n",
       "    </tr>\n",
       "    <tr>\n",
       "      <th>Inhibition</th>\n",
       "      <th>Not Active</th>\n",
       "      <td>0</td>\n",
       "      <td>0</td>\n",
       "    </tr>\n",
       "    <tr>\n",
       "      <th>Ki</th>\n",
       "      <th>Active</th>\n",
       "      <td>8</td>\n",
       "      <td>8</td>\n",
       "    </tr>\n",
       "    <tr>\n",
       "      <th>No change</th>\n",
       "      <th>Not Active</th>\n",
       "      <td>0</td>\n",
       "      <td>0</td>\n",
       "    </tr>\n",
       "    <tr>\n",
       "      <th rowspan=\"2\" valign=\"top\">Potency</th>\n",
       "      <th>Active</th>\n",
       "      <td>157</td>\n",
       "      <td>157</td>\n",
       "    </tr>\n",
       "    <tr>\n",
       "      <th>Not Active</th>\n",
       "      <td>8886</td>\n",
       "      <td>8886</td>\n",
       "    </tr>\n",
       "  </tbody>\n",
       "</table>\n",
       "</div>"
      ],
      "text/plain": [
       "                          pChEMBL Value  Standard Value\n",
       "Standard Type Comment                                  \n",
       "IC50          Not Active              0               0\n",
       "Inhibition    Not Active              0               0\n",
       "Ki            Active                  8               8\n",
       "No change     Not Active              0               0\n",
       "Potency       Active                157             157\n",
       "              Not Active           8886            8886"
      ]
     },
     "execution_count": 8,
     "metadata": {},
     "output_type": "execute_result"
    }
   ],
   "source": [
    "df_count"
   ]
  },
  {
   "cell_type": "markdown",
   "id": "cbeca725",
   "metadata": {},
   "source": [
    "Active/Inactive molecules are only present in the Potency Standard value, wich is a general representation of the activity. It would be desiderable build a dataset based only in the ST but only potency is avaliable. There is also active molecules for the Ki ST but are only 8. Those will be considered in the dataset."
   ]
  },
  {
   "cell_type": "markdown",
   "id": "acfe1430",
   "metadata": {},
   "source": [
    "### Mean grouping by 'Standard Type' and 'Comment'"
   ]
  },
  {
   "cell_type": "code",
   "execution_count": 9,
   "id": "43b25d40",
   "metadata": {
    "scrolled": true
   },
   "outputs": [
    {
     "data": {
      "text/html": [
       "<div>\n",
       "<style scoped>\n",
       "    .dataframe tbody tr th:only-of-type {\n",
       "        vertical-align: middle;\n",
       "    }\n",
       "\n",
       "    .dataframe tbody tr th {\n",
       "        vertical-align: top;\n",
       "    }\n",
       "\n",
       "    .dataframe thead th {\n",
       "        text-align: right;\n",
       "    }\n",
       "</style>\n",
       "<table border=\"1\" class=\"dataframe\">\n",
       "  <thead>\n",
       "    <tr style=\"text-align: right;\">\n",
       "      <th></th>\n",
       "      <th></th>\n",
       "      <th>pChEMBL Value</th>\n",
       "      <th>Standard Value</th>\n",
       "    </tr>\n",
       "    <tr>\n",
       "      <th>Standard Type</th>\n",
       "      <th>Comment</th>\n",
       "      <th></th>\n",
       "      <th></th>\n",
       "    </tr>\n",
       "  </thead>\n",
       "  <tbody>\n",
       "    <tr>\n",
       "      <th>IC50</th>\n",
       "      <th>Not Active</th>\n",
       "      <td>NaN</td>\n",
       "      <td>NaN</td>\n",
       "    </tr>\n",
       "    <tr>\n",
       "      <th>Inhibition</th>\n",
       "      <th>Not Active</th>\n",
       "      <td>NaN</td>\n",
       "      <td>NaN</td>\n",
       "    </tr>\n",
       "    <tr>\n",
       "      <th>Ki</th>\n",
       "      <th>Active</th>\n",
       "      <td>4.895000</td>\n",
       "      <td>13500.000000</td>\n",
       "    </tr>\n",
       "    <tr>\n",
       "      <th>No change</th>\n",
       "      <th>Not Active</th>\n",
       "      <td>NaN</td>\n",
       "      <td>NaN</td>\n",
       "    </tr>\n",
       "    <tr>\n",
       "      <th rowspan=\"2\" valign=\"top\">Potency</th>\n",
       "      <th>Active</th>\n",
       "      <td>4.601975</td>\n",
       "      <td>37869.515924</td>\n",
       "    </tr>\n",
       "    <tr>\n",
       "      <th>Not Active</th>\n",
       "      <td>4.978202</td>\n",
       "      <td>37462.626052</td>\n",
       "    </tr>\n",
       "  </tbody>\n",
       "</table>\n",
       "</div>"
      ],
      "text/plain": [
       "                          pChEMBL Value  Standard Value\n",
       "Standard Type Comment                                  \n",
       "IC50          Not Active            NaN             NaN\n",
       "Inhibition    Not Active            NaN             NaN\n",
       "Ki            Active           4.895000    13500.000000\n",
       "No change     Not Active            NaN             NaN\n",
       "Potency       Active           4.601975    37869.515924\n",
       "              Not Active       4.978202    37462.626052"
      ]
     },
     "execution_count": 9,
     "metadata": {},
     "output_type": "execute_result"
    }
   ],
   "source": [
    "df_mean"
   ]
  },
  {
   "cell_type": "markdown",
   "id": "baba8a70",
   "metadata": {},
   "source": [
    "This part goes interesting, since the mean value in both datasets have very similar pChEMBL values for the active and inactive molecules.That means that pChEMBL value is not that reliable to distinguish between actives and inactives. To make this more visual, there will be presented the histogram for the pChEMBL value for each dataset."
   ]
  },
  {
   "cell_type": "code",
   "execution_count": 81,
   "id": "659f5525",
   "metadata": {
    "scrolled": true
   },
   "outputs": [],
   "source": [
    "import seaborn as sns\n",
    "import matplotlib.pyplot as plt\n",
    "from matplotlib import rcParams\n",
    "\n",
    "%matplotlib inline\n",
    "\n",
    "df_act = df_act_inac[df_act_inac['Comment'] == 'Active']\n",
    "df_inact = df_act_inac[df_act_inac['Comment'] == 'Not Active']\n",
    "\n",
    "df_act_counts = df_act.groupby('pChEMBL Value', as_index = False).count()[['pChEMBL Value', 'Smiles']]\n",
    "df_inact_counts = df_inact.groupby('pChEMBL Value', as_index = False).count()[['pChEMBL Value', 'Smiles']]\n",
    "df_act_counts.columns = ['pChEMBL Value', 'Relative Count']\n",
    "df_inact_counts.columns = ['pChEMBL Value', 'Relative Count']\n",
    "\n",
    "# Standarizing\n",
    "df_act_counts['Relative Count'] = (df_act_counts['Relative Count'] / df_act_counts['Relative Count'].sum()) * 100\n",
    "df_inact_counts['Relative Count'] = (df_inact_counts['Relative Count'] / df_inact_counts['Relative Count'].sum()) * 100"
   ]
  },
  {
   "cell_type": "markdown",
   "id": "312e488e",
   "metadata": {},
   "source": [
    "#### Actives"
   ]
  },
  {
   "cell_type": "code",
   "execution_count": 82,
   "id": "49ca9df8",
   "metadata": {
    "scrolled": true
   },
   "outputs": [
    {
     "data": {
      "image/png": "[encoded data removed]",
      "text/plain": [
       "<Figure size 432x288 with 1 Axes>"
      ]
     },
     "metadata": {
      "needs_background": "light"
     },
     "output_type": "display_data"
    }
   ],
   "source": [
    "sns.barplot(x = df_act_counts['pChEMBL Value'], y = df_act_counts['Relative Count'])\n",
    "plt.xticks(rotation=90)\n",
    "plt.show()"
   ]
  },
  {
   "cell_type": "code",
   "execution_count": 83,
   "id": "c5142cca",
   "metadata": {},
   "outputs": [
    {
     "data": {
      "text/plain": [
       "<AxesSubplot:xlabel='pChEMBL Value', ylabel='Count'>"
      ]
     },
     "execution_count": 83,
     "metadata": {},
     "output_type": "execute_result"
    },
    {
     "data": {
      "image/png": "[encoded data removed]",
      "text/plain": [
       "<Figure size 432x288 with 1 Axes>"
      ]
     },
     "metadata": {
      "needs_background": "light"
     },
     "output_type": "display_data"
    }
   ],
   "source": [
    "sns.histplot(df_act['pChEMBL Value'], bins=20)"
   ]
  },
  {
   "cell_type": "markdown",
   "id": "2f179c49",
   "metadata": {},
   "source": [
    "#### Inactives"
   ]
  },
  {
   "cell_type": "code",
   "execution_count": 84,
   "id": "263c7c75",
   "metadata": {
    "scrolled": true
   },
   "outputs": [
    {
     "data": {
      "image/png": "[encoded data removed]",
      "text/plain": [
       "<Figure size 432x288 with 1 Axes>"
      ]
     },
     "metadata": {
      "needs_background": "light"
     },
     "output_type": "display_data"
    }
   ],
   "source": [
    "sns.barplot(x = df_inact_counts['pChEMBL Value'], y = df_inact_counts['Relative Count'])\n",
    "plt.xticks(rotation=90)\n",
    "plt.show()"
   ]
  },
  {
   "cell_type": "code",
   "execution_count": 85,
   "id": "b36f7b17",
   "metadata": {
    "scrolled": true
   },
   "outputs": [
    {
     "data": {
      "text/plain": [
       "<AxesSubplot:xlabel='pChEMBL Value', ylabel='Count'>"
      ]
     },
     "execution_count": 85,
     "metadata": {},
     "output_type": "execute_result"
    },
    {
     "data": {
      "image/png": "[encoded data removed]",
      "text/plain": [
       "<Figure size 432x288 with 1 Axes>"
      ]
     },
     "metadata": {
      "needs_background": "light"
     },
     "output_type": "display_data"
    }
   ],
   "source": [
    "sns.histplot(df_inact['pChEMBL Value'], bins=20)"
   ]
  },
  {
   "cell_type": "markdown",
   "id": "ce94f4ff",
   "metadata": {},
   "source": [
    "#### Inconclusive"
   ]
  },
  {
   "cell_type": "code",
   "execution_count": 86,
   "id": "5e6688e8",
   "metadata": {},
   "outputs": [
    {
     "data": {
      "text/plain": [
       "<AxesSubplot:xlabel='pChEMBL Value', ylabel='Count'>"
      ]
     },
     "execution_count": 86,
     "metadata": {},
     "output_type": "execute_result"
    },
    {
     "data": {
      "image/png": "[encoded data removed]",
      "text/plain": [
       "<Figure size 432x288 with 1 Axes>"
      ]
     },
     "metadata": {
      "needs_background": "light"
     },
     "output_type": "display_data"
    }
   ],
   "source": [
    "sns.histplot(df_inconclusive['pChEMBL Value'], bins=20)"
   ]
  },
  {
   "cell_type": "markdown",
   "id": "7688b76d",
   "metadata": {},
   "source": [
    "There is not clear difference between active and inactive molecules since all distributions looks kind of centered."
   ]
  },
  {
   "cell_type": "markdown",
   "id": "d0de6562",
   "metadata": {},
   "source": [
    "### Std grouping by 'Standard Type' and 'Comment'"
   ]
  },
  {
   "cell_type": "code",
   "execution_count": 10,
   "id": "38e8969e",
   "metadata": {},
   "outputs": [
    {
     "data": {
      "text/html": [
       "<div>\n",
       "<style scoped>\n",
       "    .dataframe tbody tr th:only-of-type {\n",
       "        vertical-align: middle;\n",
       "    }\n",
       "\n",
       "    .dataframe tbody tr th {\n",
       "        vertical-align: top;\n",
       "    }\n",
       "\n",
       "    .dataframe thead th {\n",
       "        text-align: right;\n",
       "    }\n",
       "</style>\n",
       "<table border=\"1\" class=\"dataframe\">\n",
       "  <thead>\n",
       "    <tr style=\"text-align: right;\">\n",
       "      <th></th>\n",
       "      <th></th>\n",
       "      <th>pChEMBL Value</th>\n",
       "      <th>Standard Value</th>\n",
       "    </tr>\n",
       "    <tr>\n",
       "      <th>Standard Type</th>\n",
       "      <th>Comment</th>\n",
       "      <th></th>\n",
       "      <th></th>\n",
       "    </tr>\n",
       "  </thead>\n",
       "  <tbody>\n",
       "    <tr>\n",
       "      <th>IC50</th>\n",
       "      <th>Not Active</th>\n",
       "      <td>NaN</td>\n",
       "      <td>NaN</td>\n",
       "    </tr>\n",
       "    <tr>\n",
       "      <th>Inhibition</th>\n",
       "      <th>Not Active</th>\n",
       "      <td>NaN</td>\n",
       "      <td>NaN</td>\n",
       "    </tr>\n",
       "    <tr>\n",
       "      <th>Ki</th>\n",
       "      <th>Active</th>\n",
       "      <td>0.178646</td>\n",
       "      <td>4140.393356</td>\n",
       "    </tr>\n",
       "    <tr>\n",
       "      <th>No change</th>\n",
       "      <th>Not Active</th>\n",
       "      <td>NaN</td>\n",
       "      <td>NaN</td>\n",
       "    </tr>\n",
       "    <tr>\n",
       "      <th rowspan=\"2\" valign=\"top\">Potency</th>\n",
       "      <th>Active</th>\n",
       "      <td>0.550129</td>\n",
       "      <td>23917.411609</td>\n",
       "    </tr>\n",
       "    <tr>\n",
       "      <th>Not Active</th>\n",
       "      <td>0.849518</td>\n",
       "      <td>42650.491602</td>\n",
       "    </tr>\n",
       "  </tbody>\n",
       "</table>\n",
       "</div>"
      ],
      "text/plain": [
       "                          pChEMBL Value  Standard Value\n",
       "Standard Type Comment                                  \n",
       "IC50          Not Active            NaN             NaN\n",
       "Inhibition    Not Active            NaN             NaN\n",
       "Ki            Active           0.178646     4140.393356\n",
       "No change     Not Active            NaN             NaN\n",
       "Potency       Active           0.550129    23917.411609\n",
       "              Not Active       0.849518    42650.491602"
      ]
     },
     "execution_count": 10,
     "metadata": {},
     "output_type": "execute_result"
    }
   ],
   "source": [
    "df_std"
   ]
  },
  {
   "cell_type": "markdown",
   "id": "3c121f09",
   "metadata": {},
   "source": [
    "## Saving the dataframes in different csv files"
   ]
  },
  {
   "cell_type": "code",
   "execution_count": 87,
   "id": "f232afb1",
   "metadata": {},
   "outputs": [],
   "source": [
    "df_act.to_csv('./actives.csv', index=False)\n",
    "df_inact.to_csv('./inactives.csv', index=False)\n",
    "df_inconclusive.to_csv('./inconclusive.csv', index=False)"
   ]
  },
  {
   "cell_type": "code",
   "execution_count": null,
   "id": "954ef933",
   "metadata": {},
   "outputs": [],
   "source": []
  }
 ],
 "metadata": {
  "kernelspec": {
   "display_name": "Python 3 (ipykernel)",
   "language": "python",
   "name": "python3"
  },
  "language_info": {
   "codemirror_mode": {
    "name": "ipython",
    "version": 3
   },
   "file_extension": ".py",
   "mimetype": "text/x-python",
   "name": "python",
   "nbconvert_exporter": "python",
   "pygments_lexer": "ipython3",
   "version": "3.9.7"
  }
 },
 "nbformat": 4,
 "nbformat_minor": 5
}
