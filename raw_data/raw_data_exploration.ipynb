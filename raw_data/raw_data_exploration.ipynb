{
 "cells": [
  {
   "cell_type": "markdown",
   "id": "e4dda92d",
   "metadata": {},
   "source": [
    "# Raw data analisys\n",
    "In this section we will analice the difference between the molecules label as actives or inactives in the column \"Comment\"."
   ]
  },
  {
   "cell_type": "code",
   "execution_count": 1,
   "id": "f023d7dc",
   "metadata": {},
   "outputs": [
    {
     "name": "stdout",
     "output_type": "stream",
     "text": [
      "actives.csv    inconclusive.csv       molecule_description.csv\n",
      "inactives.csv  molecule_activity.csv  raw_data_exploration.ipynb\n"
     ]
    }
   ],
   "source": [
    "import pandas as pd\n",
    "pd.options.display.max_columns = None\n",
    "!ls"
   ]
  },
  {
   "cell_type": "markdown",
   "id": "f4d57128",
   "metadata": {},
   "source": [
    "## Data downloaded from ChEMBL\n",
    "As the data presented in the contest did not have all columns. Direct download from ChEMBL was carried out searching for \"Beta-lactamase AmpC\" as the target. The dowloaded file was saved as *molecule_activity*"
   ]
  },
  {
   "cell_type": "code",
   "execution_count": 19,
   "id": "48648fbf",
   "metadata": {},
   "outputs": [
    {
     "data": {
      "text/plain": [
       "Index(['Molecule ChEMBL ID', 'Molecule Name', 'Molecule Max Phase',\n",
       "       'Molecular Weight', '#RO5 Violations', 'AlogP', 'Compound Key',\n",
       "       'Smiles', 'Standard Type', 'Standard Relation', 'Standard Value',\n",
       "       'Standard Units', 'pChEMBL Value', 'Data Validity Comment', 'Comment',\n",
       "       'Uo Units', 'Ligand Efficiency BEI', 'Ligand Efficiency LE',\n",
       "       'Ligand Efficiency LLE', 'Ligand Efficiency SEI', 'Potential Duplicate',\n",
       "       'Assay ChEMBL ID', 'Assay Description', 'Assay Type', 'BAO Format ID',\n",
       "       'BAO Label', 'Assay Organism', 'Assay Tissue ChEMBL ID',\n",
       "       'Assay Tissue Name', 'Assay Cell Type', 'Assay Subcellular Fraction',\n",
       "       'Assay Parameters', 'Assay Variant Accession', 'Assay Variant Mutation',\n",
       "       'Target ChEMBL ID', 'Target Name', 'Target Organism', 'Target Type',\n",
       "       'Document ChEMBL ID', 'Source ID', 'Source Description',\n",
       "       'Document Journal', 'Document Year', 'Cell ChEMBL ID', 'Properties'],\n",
       "      dtype='object')"
      ]
     },
     "execution_count": 19,
     "metadata": {},
     "output_type": "execute_result"
    }
   ],
   "source": [
    "df = pd.read_csv('./molecule_activity.csv',sep=';')\n",
    "df.columns"
   ]
  },
  {
   "cell_type": "code",
   "execution_count": 20,
   "id": "94556eb3",
   "metadata": {},
   "outputs": [],
   "source": [
    "# df['Data Validity Comment'].value_counts()"
   ]
  },
  {
   "cell_type": "markdown",
   "id": "1bc79b7f",
   "metadata": {},
   "source": [
    "## Split of the data set into 3 cataegaories:\n",
    "The main idea is to substract from the undifined set, the molecules that are likely actives or inactives not using a arbitrary pChEMBL value cutoff. As I found in some ChEMBL preprocesing pipelines, the column *Comment* is used as a first criteria to split the data, so in this case the comments used were:\n",
    "\n",
    "* Actives\n",
    "* Inactives\n",
    "* Inconclusive\n",
    "\n",
    "Papers using this aproach:\n",
    "<div class=\"csl-entry\">Mayr, A., Klambauer, G., Unterthiner, T., Steijaert, M., Wegner, J. K., Ceulemans, H., Clevert, D. A., &#38; Hochreiter, S. (2018). Large-scale comparison of machine learning methods for drug target prediction on ChEMBL. <i>Chemical Science</i>, <i>9</i>(24), 5441–5451. https://doi.org/10.1039/C8SC00148K</div>\n",
    "\n",
    "In [this paper](https://f1000researchdata.s3.amazonaws.com/manuscripts/15276/9c9a53a2-9a80-4223-bc8d-67aee14df227_11905_-_sereina_riniker_v2.pdf?doi=10.12688/f1000research.11905.2&numberOfBrowsableCollections=29&numberOfBrowsableInstitutionalCollections=4&numberOfBrowsableGateways=31) the autors did not use the ambiguos results of the HTS study.\n",
    "\n",
    "* https://f1000researchdata.s3.amazonaws.com/manuscripts/15276/9c9a53a2-9a80-4223-bc8d-67aee14df227_11905_-_sereina_riniker_v2.pdf?doi=10.12688/f1000research.11905.2&numberOfBrowsableCollections=29&numberOfBrowsableInstitutionalCollections=4&numberOfBrowsableGateways=31\n"
   ]
  },
  {
   "cell_type": "code",
   "execution_count": 21,
   "id": "31c0d873",
   "metadata": {},
   "outputs": [
    {
     "data": {
      "text/plain": [
       "Inconclusive               52677\n",
       "Not Active                  8951\n",
       "Active                       165\n",
       "Not Determined                 7\n",
       "Not applicable                 4\n",
       "Hydrolysis not detected        2\n",
       "324165                         1\n",
       "324147                         1\n",
       "324209                         1\n",
       "324191                         1\n",
       "Name: Comment, dtype: int64"
      ]
     },
     "execution_count": 21,
     "metadata": {},
     "output_type": "execute_result"
    }
   ],
   "source": [
    "df.Comment.value_counts().head(10)"
   ]
  },
  {
   "cell_type": "markdown",
   "id": "622f1d70",
   "metadata": {},
   "source": [
    "As we can se, the most repeted values are Inconclusive, Not active, and Active ones. The rest of values are goint to be deleted from the data set since they are ambiguos.\n",
    "\n",
    "First, we are going to analysis the values of the actives and inactives in the same dataframe."
   ]
  },
  {
   "cell_type": "code",
   "execution_count": 22,
   "id": "ae1db4c9",
   "metadata": {},
   "outputs": [],
   "source": [
    "df_inconclusive = df[(df.Comment == 'Inconclusive')]\n",
    "df_act_inac = df[(df.Comment == 'Active') | (df.Comment == 'Not Active')]"
   ]
  },
  {
   "cell_type": "markdown",
   "id": "937b4ae1",
   "metadata": {},
   "source": [
    "## pChEMBL value in the active and inactive sets\n",
    "As the value of the pChEMBL was proposed as the main distintion for active molecules and inactives, it would be pertinet to actually check if it is a good idea."
   ]
  },
  {
   "cell_type": "code",
   "execution_count": 23,
   "id": "6e0dd05f",
   "metadata": {},
   "outputs": [],
   "source": [
    "df_count = df_act_inac.groupby(['Standard Type', 'Comment']).count()[['pChEMBL Value', 'Standard Value']]\n",
    "df_mean = df_act_inac.groupby(['Standard Type', 'Comment']).mean()[['pChEMBL Value', 'Standard Value']]\n",
    "df_std = df_act_inac.groupby(['Standard Type', 'Comment']).std()[['pChEMBL Value', 'Standard Value']]"
   ]
  },
  {
   "cell_type": "markdown",
   "id": "2cc58445",
   "metadata": {},
   "source": [
    "### Count grouping by 'Standard Type' and 'Comment'"
   ]
  },
  {
   "cell_type": "code",
   "execution_count": 24,
   "id": "b3bc2df0",
   "metadata": {},
   "outputs": [
    {
     "data": {
      "text/html": [
       "<div>\n",
       "<style scoped>\n",
       "    .dataframe tbody tr th:only-of-type {\n",
       "        vertical-align: middle;\n",
       "    }\n",
       "\n",
       "    .dataframe tbody tr th {\n",
       "        vertical-align: top;\n",
       "    }\n",
       "\n",
       "    .dataframe thead th {\n",
       "        text-align: right;\n",
       "    }\n",
       "</style>\n",
       "<table border=\"1\" class=\"dataframe\">\n",
       "  <thead>\n",
       "    <tr style=\"text-align: right;\">\n",
       "      <th></th>\n",
       "      <th></th>\n",
       "      <th>pChEMBL Value</th>\n",
       "      <th>Standard Value</th>\n",
       "    </tr>\n",
       "    <tr>\n",
       "      <th>Standard Type</th>\n",
       "      <th>Comment</th>\n",
       "      <th></th>\n",
       "      <th></th>\n",
       "    </tr>\n",
       "  </thead>\n",
       "  <tbody>\n",
       "    <tr>\n",
       "      <th>IC50</th>\n",
       "      <th>Not Active</th>\n",
       "      <td>0</td>\n",
       "      <td>0</td>\n",
       "    </tr>\n",
       "    <tr>\n",
       "      <th>Inhibition</th>\n",
       "      <th>Not Active</th>\n",
       "      <td>0</td>\n",
       "      <td>0</td>\n",
       "    </tr>\n",
       "    <tr>\n",
       "      <th>Ki</th>\n",
       "      <th>Active</th>\n",
       "      <td>8</td>\n",
       "      <td>8</td>\n",
       "    </tr>\n",
       "    <tr>\n",
       "      <th>No change</th>\n",
       "      <th>Not Active</th>\n",
       "      <td>0</td>\n",
       "      <td>0</td>\n",
       "    </tr>\n",
       "    <tr>\n",
       "      <th rowspan=\"2\" valign=\"top\">Potency</th>\n",
       "      <th>Active</th>\n",
       "      <td>157</td>\n",
       "      <td>157</td>\n",
       "    </tr>\n",
       "    <tr>\n",
       "      <th>Not Active</th>\n",
       "      <td>8886</td>\n",
       "      <td>8886</td>\n",
       "    </tr>\n",
       "  </tbody>\n",
       "</table>\n",
       "</div>"
      ],
      "text/plain": [
       "                          pChEMBL Value  Standard Value\n",
       "Standard Type Comment                                  \n",
       "IC50          Not Active              0               0\n",
       "Inhibition    Not Active              0               0\n",
       "Ki            Active                  8               8\n",
       "No change     Not Active              0               0\n",
       "Potency       Active                157             157\n",
       "              Not Active           8886            8886"
      ]
     },
     "execution_count": 24,
     "metadata": {},
     "output_type": "execute_result"
    }
   ],
   "source": [
    "df_count"
   ]
  },
  {
   "cell_type": "markdown",
   "id": "cbeca725",
   "metadata": {},
   "source": [
    "Active/Inactive molecules are only present in the Potency Standard value, wich is a general representation of the activity. It would be desiderable build a dataset based only in the ST but only potency is avaliable. There is also active molecules for the Ki ST but are only 8. Those will be considered in the dataset."
   ]
  },
  {
   "cell_type": "markdown",
   "id": "acfe1430",
   "metadata": {},
   "source": [
    "### Mean grouping by 'Standard Type' and 'Comment'"
   ]
  },
  {
   "cell_type": "code",
   "execution_count": 13,
   "id": "43b25d40",
   "metadata": {
    "scrolled": true
   },
   "outputs": [
    {
     "data": {
      "text/html": [
       "<div>\n",
       "<style scoped>\n",
       "    .dataframe tbody tr th:only-of-type {\n",
       "        vertical-align: middle;\n",
       "    }\n",
       "\n",
       "    .dataframe tbody tr th {\n",
       "        vertical-align: top;\n",
       "    }\n",
       "\n",
       "    .dataframe thead th {\n",
       "        text-align: right;\n",
       "    }\n",
       "</style>\n",
       "<table border=\"1\" class=\"dataframe\">\n",
       "  <thead>\n",
       "    <tr style=\"text-align: right;\">\n",
       "      <th></th>\n",
       "      <th></th>\n",
       "      <th>pChEMBL Value</th>\n",
       "      <th>Standard Value</th>\n",
       "    </tr>\n",
       "    <tr>\n",
       "      <th>Standard Type</th>\n",
       "      <th>Comment</th>\n",
       "      <th></th>\n",
       "      <th></th>\n",
       "    </tr>\n",
       "  </thead>\n",
       "  <tbody>\n",
       "    <tr>\n",
       "      <th>IC50</th>\n",
       "      <th>Not Active</th>\n",
       "      <td>NaN</td>\n",
       "      <td>NaN</td>\n",
       "    </tr>\n",
       "    <tr>\n",
       "      <th>Inhibition</th>\n",
       "      <th>Not Active</th>\n",
       "      <td>NaN</td>\n",
       "      <td>NaN</td>\n",
       "    </tr>\n",
       "    <tr>\n",
       "      <th>Ki</th>\n",
       "      <th>Active</th>\n",
       "      <td>4.895000</td>\n",
       "      <td>13500.000000</td>\n",
       "    </tr>\n",
       "    <tr>\n",
       "      <th>No change</th>\n",
       "      <th>Not Active</th>\n",
       "      <td>NaN</td>\n",
       "      <td>NaN</td>\n",
       "    </tr>\n",
       "    <tr>\n",
       "      <th rowspan=\"2\" valign=\"top\">Potency</th>\n",
       "      <th>Active</th>\n",
       "      <td>4.601975</td>\n",
       "      <td>37869.515924</td>\n",
       "    </tr>\n",
       "    <tr>\n",
       "      <th>Not Active</th>\n",
       "      <td>4.978202</td>\n",
       "      <td>37462.626052</td>\n",
       "    </tr>\n",
       "  </tbody>\n",
       "</table>\n",
       "</div>"
      ],
      "text/plain": [
       "                          pChEMBL Value  Standard Value\n",
       "Standard Type Comment                                  \n",
       "IC50          Not Active            NaN             NaN\n",
       "Inhibition    Not Active            NaN             NaN\n",
       "Ki            Active           4.895000    13500.000000\n",
       "No change     Not Active            NaN             NaN\n",
       "Potency       Active           4.601975    37869.515924\n",
       "              Not Active       4.978202    37462.626052"
      ]
     },
     "execution_count": 13,
     "metadata": {},
     "output_type": "execute_result"
    }
   ],
   "source": [
    "df_mean"
   ]
  },
  {
   "cell_type": "markdown",
   "id": "baba8a70",
   "metadata": {},
   "source": [
    "This part goes interesting, since the mean value in both datasets have very similar pChEMBL values for the active and inactive molecules, but what is kind of weard is that the mean of inactive molecules ir higger than the mean of active ones. That means that pChEMBL value is not that reliable to distinguish between actives and inactives. To make this more visual, there will be presented the histogram for the pChEMBL value for each dataset."
   ]
  },
  {
   "cell_type": "code",
   "execution_count": 25,
   "id": "659f5525",
   "metadata": {
    "scrolled": true
   },
   "outputs": [],
   "source": [
    "import seaborn as sns\n",
    "import matplotlib.pyplot as plt\n",
    "\n",
    "%matplotlib inline\n",
    "\n",
    "df_act = df_act_inac[df_act_inac['Comment'] == 'Active']\n",
    "df_inact = df_act_inac[df_act_inac['Comment'] == 'Not Active']\n",
    "\n",
    "df_act_counts = df_act.groupby('pChEMBL Value', as_index = False).count()[['pChEMBL Value', 'Smiles']]\n",
    "df_inact_counts = df_inact.groupby('pChEMBL Value', as_index = False).count()[['pChEMBL Value', 'Smiles']]\n",
    "df_act_counts.columns = ['pChEMBL Value', 'Relative Count']\n",
    "df_inact_counts.columns = ['pChEMBL Value', 'Relative Count']\n",
    "\n",
    "# Standarizing\n",
    "df_act_counts['Relative Count'] = (df_act_counts['Relative Count'] / df_act_counts['Relative Count'].sum()) * 100\n",
    "df_inact_counts['Relative Count'] = (df_inact_counts['Relative Count'] / df_inact_counts['Relative Count'].sum()) * 100"
   ]
  },
  {
   "cell_type": "markdown",
   "id": "312e488e",
   "metadata": {},
   "source": [
    "#### Actives"
   ]
  },
  {
   "cell_type": "code",
   "execution_count": 9,
   "id": "49ca9df8",
   "metadata": {
    "scrolled": true
   },
   "outputs": [
    {
     "data": {
      "image/png": "[encoded data removed]",
      "text/plain": [
       "<Figure size 432x288 with 1 Axes>"
      ]
     },
     "metadata": {
      "needs_background": "light"
     },
     "output_type": "display_data"
    }
   ],
   "source": [
    "sns.barplot(x = df_act_counts['pChEMBL Value'], y = df_act_counts['Relative Count'])\n",
    "plt.xticks(rotation=90)\n",
    "plt.show()"
   ]
  },
  {
   "cell_type": "code",
   "execution_count": 10,
   "id": "c5142cca",
   "metadata": {},
   "outputs": [
    {
     "data": {
      "text/plain": [
       "<AxesSubplot:xlabel='pChEMBL Value', ylabel='Count'>"
      ]
     },
     "execution_count": 10,
     "metadata": {},
     "output_type": "execute_result"
    },
    {
     "data": {
      "image/png": "[encoded data removed]",
      "text/plain": [
       "<Figure size 432x288 with 1 Axes>"
      ]
     },
     "metadata": {
      "needs_background": "light"
     },
     "output_type": "display_data"
    }
   ],
   "source": [
    "sns.histplot(df_act['pChEMBL Value'], bins=20)"
   ]
  },
  {
   "cell_type": "markdown",
   "id": "2e775cf2",
   "metadata": {},
   "source": [
    "Its important to note that a big quantity of the pChEMBL values for active molecules are low, being almost half of the records between 4.25 and 5.0."
   ]
  },
  {
   "cell_type": "markdown",
   "id": "2f179c49",
   "metadata": {},
   "source": [
    "#### Inactives"
   ]
  },
  {
   "cell_type": "code",
   "execution_count": 11,
   "id": "263c7c75",
   "metadata": {
    "scrolled": true
   },
   "outputs": [
    {
     "data": {
      "image/png": "[encoded data removed]",
      "text/plain": [
       "<Figure size 432x288 with 1 Axes>"
      ]
     },
     "metadata": {
      "needs_background": "light"
     },
     "output_type": "display_data"
    }
   ],
   "source": [
    "sns.barplot(x = df_inact_counts['pChEMBL Value'], y = df_inact_counts['Relative Count'])\n",
    "plt.xticks(rotation=90)\n",
    "plt.show()"
   ]
  },
  {
   "cell_type": "code",
   "execution_count": 12,
   "id": "b36f7b17",
   "metadata": {
    "scrolled": true
   },
   "outputs": [
    {
     "data": {
      "text/plain": [
       "<AxesSubplot:xlabel='pChEMBL Value', ylabel='Count'>"
      ]
     },
     "execution_count": 12,
     "metadata": {},
     "output_type": "execute_result"
    },
    {
     "data": {
      "image/png": "[encoded data removed]",
      "text/plain": [
       "<Figure size 432x288 with 1 Axes>"
      ]
     },
     "metadata": {
      "needs_background": "light"
     },
     "output_type": "display_data"
    }
   ],
   "source": [
    "sns.histplot(df_inact['pChEMBL Value'], bins=20)"
   ]
  },
  {
   "cell_type": "markdown",
   "id": "0a19649d",
   "metadata": {},
   "source": [
    "Also the inactives molevules have many molecules with high pChEMBL value."
   ]
  },
  {
   "cell_type": "markdown",
   "id": "ce94f4ff",
   "metadata": {},
   "source": [
    "#### Inconclusive"
   ]
  },
  {
   "cell_type": "code",
   "execution_count": 13,
   "id": "5e6688e8",
   "metadata": {},
   "outputs": [
    {
     "data": {
      "text/plain": [
       "<AxesSubplot:xlabel='pChEMBL Value', ylabel='Count'>"
      ]
     },
     "execution_count": 13,
     "metadata": {},
     "output_type": "execute_result"
    },
    {
     "data": {
      "image/png": "[encoded data removed]",
      "text/plain": [
       "<Figure size 432x288 with 1 Axes>"
      ]
     },
     "metadata": {
      "needs_background": "light"
     },
     "output_type": "display_data"
    }
   ],
   "source": [
    "sns.histplot(df_inconclusive['pChEMBL Value'], bins=20)"
   ]
  },
  {
   "cell_type": "markdown",
   "id": "7688b76d",
   "metadata": {},
   "source": [
    "In the inconclusive values, there is not clear bias in the pChEMBL value, that is ok, since it represent a pool of posible active/inactive values.\n",
    "\n",
    "As a conclusion, there is not clear difference in pChEMBL value between active and inactive molecules since all distributions looks kind of centered."
   ]
  },
  {
   "cell_type": "markdown",
   "id": "d0de6562",
   "metadata": {},
   "source": [
    "### Std grouping by 'Standard Type' and 'Comment'"
   ]
  },
  {
   "cell_type": "code",
   "execution_count": 14,
   "id": "38e8969e",
   "metadata": {},
   "outputs": [
    {
     "data": {
      "text/html": [
       "<div>\n",
       "<style scoped>\n",
       "    .dataframe tbody tr th:only-of-type {\n",
       "        vertical-align: middle;\n",
       "    }\n",
       "\n",
       "    .dataframe tbody tr th {\n",
       "        vertical-align: top;\n",
       "    }\n",
       "\n",
       "    .dataframe thead th {\n",
       "        text-align: right;\n",
       "    }\n",
       "</style>\n",
       "<table border=\"1\" class=\"dataframe\">\n",
       "  <thead>\n",
       "    <tr style=\"text-align: right;\">\n",
       "      <th></th>\n",
       "      <th></th>\n",
       "      <th>pChEMBL Value</th>\n",
       "      <th>Standard Value</th>\n",
       "    </tr>\n",
       "    <tr>\n",
       "      <th>Standard Type</th>\n",
       "      <th>Comment</th>\n",
       "      <th></th>\n",
       "      <th></th>\n",
       "    </tr>\n",
       "  </thead>\n",
       "  <tbody>\n",
       "    <tr>\n",
       "      <th>IC50</th>\n",
       "      <th>Not Active</th>\n",
       "      <td>NaN</td>\n",
       "      <td>NaN</td>\n",
       "    </tr>\n",
       "    <tr>\n",
       "      <th>Inhibition</th>\n",
       "      <th>Not Active</th>\n",
       "      <td>NaN</td>\n",
       "      <td>NaN</td>\n",
       "    </tr>\n",
       "    <tr>\n",
       "      <th>Ki</th>\n",
       "      <th>Active</th>\n",
       "      <td>0.178646</td>\n",
       "      <td>4140.393356</td>\n",
       "    </tr>\n",
       "    <tr>\n",
       "      <th>No change</th>\n",
       "      <th>Not Active</th>\n",
       "      <td>NaN</td>\n",
       "      <td>NaN</td>\n",
       "    </tr>\n",
       "    <tr>\n",
       "      <th rowspan=\"2\" valign=\"top\">Potency</th>\n",
       "      <th>Active</th>\n",
       "      <td>0.550129</td>\n",
       "      <td>23917.411609</td>\n",
       "    </tr>\n",
       "    <tr>\n",
       "      <th>Not Active</th>\n",
       "      <td>0.849518</td>\n",
       "      <td>42650.491602</td>\n",
       "    </tr>\n",
       "  </tbody>\n",
       "</table>\n",
       "</div>"
      ],
      "text/plain": [
       "                          pChEMBL Value  Standard Value\n",
       "Standard Type Comment                                  \n",
       "IC50          Not Active            NaN             NaN\n",
       "Inhibition    Not Active            NaN             NaN\n",
       "Ki            Active           0.178646     4140.393356\n",
       "No change     Not Active            NaN             NaN\n",
       "Potency       Active           0.550129    23917.411609\n",
       "              Not Active       0.849518    42650.491602"
      ]
     },
     "execution_count": 14,
     "metadata": {},
     "output_type": "execute_result"
    }
   ],
   "source": [
    "df_std"
   ]
  },
  {
   "cell_type": "markdown",
   "id": "3c121f09",
   "metadata": {},
   "source": [
    "## Saving the dataframes in different csv files"
   ]
  },
  {
   "cell_type": "markdown",
   "id": "a8c47755",
   "metadata": {},
   "source": [
    "First, we are going to select the columns that are goint to be usefull in the future"
   ]
  },
  {
   "cell_type": "code",
   "execution_count": 26,
   "id": "1a73a6cb",
   "metadata": {},
   "outputs": [],
   "source": [
    "columns = ['Smiles', 'Standard Type', 'Standard Relation', 'Standard Value', 'Standard Units', 'pChEMBL Value', 'BAO Label', 'Target Name']\n",
    "columns_desired_name = ['Smiles', 'Standard_Type', 'Standard_Relation', 'Standard_Value', 'Standard_Units', 'pChEMBL_Value', 'BAO_Label', 'Target_Name']\n",
    "\n",
    "df_act = df_act[columns]\n",
    "df_inact = df_inact[columns]\n",
    "df_inconclusive = df_inconclusive[columns]\n",
    "\n",
    "df_act.columns = columns_desired_name\n",
    "df_inact.columns = columns_desired_name\n",
    "df_inconclusive.columns = columns_desired_name"
   ]
  },
  {
   "cell_type": "markdown",
   "id": "e15a264a",
   "metadata": {},
   "source": [
    "Now we save the dataframes in diferent files"
   ]
  },
  {
   "cell_type": "code",
   "execution_count": 17,
   "id": "f232afb1",
   "metadata": {},
   "outputs": [],
   "source": [
    "df_act.to_csv('./actives.csv', index=False)\n",
    "df_inact.to_csv('./inactives.csv', index=False)\n",
    "df_inconclusive.to_csv('./inconclusive.csv', index=False)"
   ]
  },
  {
   "cell_type": "markdown",
   "id": "11d8f133",
   "metadata": {},
   "source": [
    "## Analyzing some molecule properties between molecules datasets\n",
    "\n",
    "Part of the code was taken from the book: \n",
    "* Bharath Ramsundar, Peter Eastman, Patrick Walters, Vijay Pande - Deep Learning for the Life Sciences_ Applying Deep Learning to Genomics, Microscopy, Drug Discovery, and More-O’Reilly Media (2019)"
   ]
  },
  {
   "cell_type": "code",
   "execution_count": 29,
   "id": "2792f7bf",
   "metadata": {},
   "outputs": [],
   "source": [
    "from rdkit import Chem # RDKit libraries for chemistry functions\n",
    "from rdkit.Chem import Draw # Drawing chemical structures\n",
    "import pandas as pd # Dealing with data in tables\n",
    "from rdkit.Chem import PandasTools # Manipulating chemical data\n",
    "from rdkit.Chem import Descriptors # Calculating molecular descriptors\n",
    "from rdkit.Chem import rdmolops # Additional molecular properties\n",
    "import seaborn as sns # Making graphs \n",
    "\n",
    "\n",
    "import numpy as np\n",
    "\n",
    "%matplotlib inline"
   ]
  },
  {
   "cell_type": "code",
   "execution_count": 27,
   "id": "a872fa50",
   "metadata": {},
   "outputs": [],
   "source": [
    "df_act = df_act[['Smiles', 'pChEMBL_Value']]\n",
    "df_inact = df_inact[['Smiles', 'pChEMBL_Value']]\n",
    "df_inconclusive = df_inconclusive[['Smiles', 'pChEMBL_Value']]"
   ]
  },
  {
   "cell_type": "code",
   "execution_count": 32,
   "id": "82436507",
   "metadata": {},
   "outputs": [],
   "source": [
    "def molFromSmiles(smiles):\n",
    "    if isinstance(smiles, str):\n",
    "        return Chem.MolFromSmiles(smiles)\n",
    "    else:\n",
    "        return False\n",
    "    \n",
    "def wtFromMol(mol):\n",
    "    if mol:\n",
    "        return Descriptors.MolWt(mol)\n",
    "    else:\n",
    "        return 0\n",
    "    \n",
    "def MolLogP(mol):\n",
    "    if mol:\n",
    "        return Descriptors.MolLogP(mol)\n",
    "    else:\n",
    "        return 0\n",
    "    \n",
    "def GetFormalCharge(mol):\n",
    "    if mol:\n",
    "        return rdmolops.GetFormalCharge(mol)\n",
    "    else:\n",
    "        return 0\n",
    "\n",
    "def add_property_columns_to_df(df_in):\n",
    "    df_in['MW'] = [wtFromMol(molFromSmiles(smiles)) for smiles in df_in.Smiles]\n",
    "    df_in[\"logP\"] = [MolLogP(molFromSmiles(smiles)) for smiles in df_in.Smiles]\n",
    "    df_in[\"charge\"] = [GetFormalCharge(molFromSmiles(smiles)) for smiles in df_in.Smiles]\n"
   ]
  },
  {
   "cell_type": "code",
   "execution_count": 33,
   "id": "3382ef17",
   "metadata": {},
   "outputs": [],
   "source": [
    "add_property_columns_to_df(df_act)\n",
    "add_property_columns_to_df(df_inact)\n",
    "add_property_columns_to_df(df_inconclusive)"
   ]
  },
  {
   "cell_type": "code",
   "execution_count": 36,
   "id": "6022b55c",
   "metadata": {},
   "outputs": [],
   "source": [
    "df_act = df_act.assign(status='Active')\n",
    "df_inact = df_inact.assign(status='Inactive')\n",
    "\n",
    "df_act_inac = pd.concat([df_act, df_inact]).sample(frac=1).sample(frac=1).sample(frac=1)"
   ]
  },
  {
   "cell_type": "code",
   "execution_count": 37,
   "id": "5ac15aa5",
   "metadata": {},
   "outputs": [
    {
     "name": "stderr",
     "output_type": "stream",
     "text": [
      "/home/alfilalex/miniconda3/envs/torchrdkit/lib/python3.9/site-packages/seaborn/_decorators.py:36: FutureWarning: Pass the following variables as keyword args: x, y. From version 0.12, the only valid positional argument will be `data`, and passing other arguments without an explicit keyword will result in an error or misinterpretation.\n",
      "  warnings.warn(\n"
     ]
    },
    {
     "data": {
      "text/plain": [
       "<AxesSubplot:xlabel='status', ylabel='MW'>"
      ]
     },
     "execution_count": 37,
     "metadata": {},
     "output_type": "execute_result"
    },
    {
     "data": {
      "image/png": "[encoded data removed]",
      "text/plain": [
       "<Figure size 432x288 with 1 Axes>"
      ]
     },
     "metadata": {
      "needs_background": "light"
     },
     "output_type": "display_data"
    }
   ],
   "source": [
    "sns.violinplot(df_act_inac[\"status\"],df_act_inac[\"MW\"])"
   ]
  },
  {
   "cell_type": "code",
   "execution_count": 38,
   "id": "0e4de871",
   "metadata": {},
   "outputs": [
    {
     "name": "stderr",
     "output_type": "stream",
     "text": [
      "/home/alfilalex/miniconda3/envs/torchrdkit/lib/python3.9/site-packages/seaborn/_decorators.py:36: FutureWarning: Pass the following variables as keyword args: x, y. From version 0.12, the only valid positional argument will be `data`, and passing other arguments without an explicit keyword will result in an error or misinterpretation.\n",
      "  warnings.warn(\n"
     ]
    },
    {
     "data": {
      "text/plain": [
       "<AxesSubplot:xlabel='status', ylabel='logP'>"
      ]
     },
     "execution_count": 38,
     "metadata": {},
     "output_type": "execute_result"
    },
    {
     "data": {
      "image/png": "[encoded data removed]",
      "text/plain": [
       "<Figure size 432x288 with 1 Axes>"
      ]
     },
     "metadata": {
      "needs_background": "light"
     },
     "output_type": "display_data"
    }
   ],
   "source": [
    "sns.violinplot(df_act_inac[\"status\"],df_act_inac[\"logP\"])"
   ]
  },
  {
   "cell_type": "code",
   "execution_count": 39,
   "id": "20550646",
   "metadata": {},
   "outputs": [
    {
     "name": "stderr",
     "output_type": "stream",
     "text": [
      "/home/alfilalex/miniconda3/envs/torchrdkit/lib/python3.9/site-packages/seaborn/_decorators.py:36: FutureWarning: Pass the following variables as keyword args: x, y. From version 0.12, the only valid positional argument will be `data`, and passing other arguments without an explicit keyword will result in an error or misinterpretation.\n",
      "  warnings.warn(\n"
     ]
    },
    {
     "data": {
      "text/plain": [
       "<AxesSubplot:xlabel='status', ylabel='charge'>"
      ]
     },
     "execution_count": 39,
     "metadata": {},
     "output_type": "execute_result"
    },
    {
     "data": {
      "image/png": "[encoded data removed]",
      "text/plain": [
       "<Figure size 432x288 with 1 Axes>"
      ]
     },
     "metadata": {
      "needs_background": "light"
     },
     "output_type": "display_data"
    }
   ],
   "source": [
    "sns.violinplot(df_act_inac[\"status\"],df_act_inac[\"charge\"])"
   ]
  },
  {
   "cell_type": "markdown",
   "id": "083aa1b8",
   "metadata": {},
   "source": [
    "Molecule properties will be revised again at the end of the preprocess"
   ]
  },
  {
   "cell_type": "code",
   "execution_count": null,
   "id": "b9fcd62a",
   "metadata": {},
   "outputs": [],
   "source": []
  }
 ],
 "metadata": {
  "kernelspec": {
   "display_name": "Python 3 (ipykernel)",
   "language": "python",
   "name": "python3"
  },
  "language_info": {
   "codemirror_mode": {
    "name": "ipython",
    "version": 3
   },
   "file_extension": ".py",
   "mimetype": "text/x-python",
   "name": "python",
   "nbconvert_exporter": "python",
   "pygments_lexer": "ipython3",
   "version": "3.9.7"
  }
 },
 "nbformat": 4,
 "nbformat_minor": 5
}
