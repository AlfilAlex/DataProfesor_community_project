{
 "cells": [
  {
   "cell_type": "markdown",
   "id": "e04ace0a",
   "metadata": {},
   "source": [
    "# Decoys selection\n",
    "Since DUD-E gives diferent decoys in separated files for each active molecule, a join its necesary. "
   ]
  },
  {
   "cell_type": "code",
   "execution_count": 23,
   "id": "cb19a600",
   "metadata": {},
   "outputs": [],
   "source": [
    "import os\n",
    "import pandas as pd\n",
    "import numpy as np"
   ]
  },
  {
   "cell_type": "code",
   "execution_count": 27,
   "id": "967f0019",
   "metadata": {},
   "outputs": [],
   "source": [
    "def decoys_to_df(csv_names_list, rows_num):\n",
    "    decoy_smiles_list = []\n",
    "    \n",
    "    for csv_file_name in csv_names_list:\n",
    "        df = pd.read_csv( f'{path}/{csv_file_name}' , sep='\\t')\n",
    "        decoy_smiles_list.append(df.values[0:rows_num, 0])\n",
    "        \n",
    "    decoy_smiles_list = np.concatenate(decoy_smiles_list)\n",
    "        \n",
    "    return pd.DataFrame({'Smiles':decoy_smiles_list}).assign(is_active=0)\n",
    "        "
   ]
  },
  {
   "cell_type": "code",
   "execution_count": 30,
   "id": "1c1650fd",
   "metadata": {},
   "outputs": [],
   "source": [
    "path = './dude-decoys/decoys/'\n",
    "csv_names_list = os.listdir(path)\n",
    "\n",
    "df_decoy = decoys_to_df(csv_names_list, 5)\n",
    "df_decoy.to_csv('./decoy_final.csv', index=False)"
   ]
  }
 ],
 "metadata": {
  "kernelspec": {
   "display_name": "Python [conda env:torchrdkit] *",
   "language": "python",
   "name": "conda-env-torchrdkit-py"
  },
  "language_info": {
   "codemirror_mode": {
    "name": "ipython",
    "version": 3
   },
   "file_extension": ".py",
   "mimetype": "text/x-python",
   "name": "python",
   "nbconvert_exporter": "python",
   "pygments_lexer": "ipython3",
   "version": "3.9.7"
  }
 },
 "nbformat": 4,
 "nbformat_minor": 5
}
