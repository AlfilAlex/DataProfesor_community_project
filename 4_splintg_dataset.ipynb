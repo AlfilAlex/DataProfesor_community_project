{
 "cells": [
  {
   "cell_type": "code",
   "execution_count": 4,
   "metadata": {},
   "outputs": [],
   "source": [
    "import pandas as pd"
   ]
  },
  {
   "cell_type": "markdown",
   "metadata": {},
   "source": [
    "# Dataset for training and testing preparation"
   ]
  },
  {
   "cell_type": "markdown",
   "metadata": {},
   "source": [
    "## Reading the files"
   ]
  },
  {
   "cell_type": "code",
   "execution_count": 5,
   "metadata": {},
   "outputs": [
    {
     "name": "stdout",
     "output_type": "stream",
     "text": [
      "There are 203 active molecules in the dataset\n",
      "There are 4681 inactive molecules in the dataset\n"
     ]
    }
   ],
   "source": [
    "df_actives = pd.read_csv('./procesed/actives/final_actives.csv')\n",
    "df_inactives = pd.read_csv('./procesed/inactives/final_inactives.csv')\n",
    "df_new_positives = pd.read_csv('./procesed/inconclusives/new_positives.csv')\n",
    "\n",
    "print(f'There are {len(df_actives) + len(df_new_positives)} active molecules in the dataset')\n",
    "print(f'There are {len(df_inactives)} inactive molecules in the dataset')\n"
   ]
  },
  {
   "cell_type": "code",
   "execution_count": 14,
   "metadata": {},
   "outputs": [],
   "source": [
    "df_concat = pd.concat([df_actives, df_inactives, df_new_positives]).sample(frac=1).sample(frac=1).sample(frac=1).sample(frac=1).reset_index(drop=True)\n",
    "df_concat_wo_dup = df_concat.drop_duplicates(subset=['Smiles'])"
   ]
  },
  {
   "cell_type": "markdown",
   "metadata": {},
   "source": [
    "## Spliting the dataset for training and teting with sklearn"
   ]
  },
  {
   "cell_type": "code",
   "execution_count": 8,
   "metadata": {},
   "outputs": [],
   "source": [
    "from sklearn.model_selection import train_test_split"
   ]
  },
  {
   "cell_type": "code",
   "execution_count": 9,
   "metadata": {},
   "outputs": [
    {
     "name": "stdout",
     "output_type": "stream",
     "text": [
      "There are 4881 molecules in the dataset\n",
      "There are 3904 molecules in training dataset\n",
      "There are 977 molecules in test dataset\n"
     ]
    }
   ],
   "source": [
    "df = df_concat_wo_dup.sample(frac = 1).sample(frac = 1).sample(frac = 1).sample(frac = 1).sample(frac = 1)\n",
    "\n",
    "# Spliting the data\n",
    "df_train, df_test = train_test_split(df, test_size=0.2)\n",
    "\n",
    "print(f'There are {len(df)} molecules in the dataset')\n",
    "print(f'There are {len(df_train)} molecules in training dataset')\n",
    "print(f'There are {len(df_test)} molecules in test dataset')"
   ]
  },
  {
   "cell_type": "markdown",
   "metadata": {},
   "source": [
    "### Oversampling the training dataset"
   ]
  },
  {
   "cell_type": "code",
   "execution_count": 10,
   "metadata": {},
   "outputs": [
    {
     "name": "stdout",
     "output_type": "stream",
     "text": [
      "Ther are 161 different active molecules\n",
      "Ther are 3743 different inactive molecules\n",
      "Oversampling active ones\n",
      "Ther are 322 different active molecules\n",
      "Ther are 3743 different inactive molecules\n",
      " - - - - - - - - - - - - \n"
     ]
    }
   ],
   "source": [
    "df = df_train.copy()\n",
    "df = df.sample(frac=1).sample(frac=1) # Just a casual shuffling\n",
    "\n",
    "\n",
    "\n",
    "active = df['is_active'] == 1\n",
    "inactive = df['is_active'] == 0\n",
    "print(f'Ther are {len(df[active])} different active molecules')\n",
    "print(f'Ther are {len(df[inactive])} different inactive molecules')\n",
    "\n",
    "print('Oversampling active ones')\n",
    "\n",
    "# Actives\n",
    "df_active = df[active].sample(frac=2, replace=True)\n",
    "\n",
    "# Inactives\n",
    "df_inactive = df[inactive].sample(frac=1)\n",
    "\n",
    "# Concatening\n",
    "df = pd.concat([df_active, df_inactive]).sample(frac=1).sample(frac=1).sample(frac=1)\n",
    "\n",
    "# Analizing again the active an inactive molecules\n",
    "active = df['is_active'] == 1\n",
    "inactive = df['is_active'] == 0\n",
    "print(f'Ther are {len(df[active])} different active molecules')\n",
    "print(f'Ther are {len(df[inactive])} different inactive molecules')\n",
    "\n",
    "print(' - - - - - - - - - - - - ')\n",
    "\n",
    "df_train_labeled = df[['Smiles', 'is_active']]\n",
    "df_train_labeled.to_csv('./data_for_training_and_testing/training_ds.csv', index=False)"
   ]
  },
  {
   "cell_type": "markdown",
   "metadata": {},
   "source": [
    "### Saving the test set"
   ]
  },
  {
   "cell_type": "code",
   "execution_count": 11,
   "metadata": {},
   "outputs": [
    {
     "name": "stdout",
     "output_type": "stream",
     "text": [
      "Ther are 39 different active molecules\n",
      "Ther are 938 different inactive molecules\n"
     ]
    }
   ],
   "source": [
    "df = df_test.copy()\n",
    "df = df.sample(frac=1) # Just a casual shuffling\n",
    "\n",
    "active = df['is_active'] == 1\n",
    "inactive = df['is_active'] == 0\n",
    "print(f'Ther are {len(df[active])} different active molecules')\n",
    "print(f'Ther are {len(df[inactive])} different inactive molecules')\n",
    "\n",
    "#df['is_active'] = np.where(df['pChEMBL Value'] >= active_cutoff, 1, 0)\n",
    "df_train_labeled = df[['Smiles', 'is_active']]\n",
    "df_train_labeled.to_csv('./data_for_training_and_testing/test_ds.csv', index=False)"
   ]
  },
  {
   "cell_type": "markdown",
   "metadata": {},
   "source": [
    "### Creating and saving a dummy training set"
   ]
  },
  {
   "cell_type": "code",
   "execution_count": 12,
   "metadata": {},
   "outputs": [],
   "source": [
    "df_actives = df[active]\n",
    "num_actives = len(df_actives)\n",
    "\n",
    "df_inactives = df[inactive].sample(num_actives)\n",
    "\n",
    "# Concatening\n",
    "df_dummy_training = pd.concat([df_actives, df_inactives]).sample(frac=1).sample(frac=1).sample(frac=1)\n",
    "df_dummy_training.to_csv('./data_for_training_and_testing/dummy_training_ds.csv', index=False)"
   ]
  },
  {
   "cell_type": "markdown",
   "metadata": {},
   "source": [
    "---"
   ]
  },
  {
   "cell_type": "markdown",
   "metadata": {},
   "source": [
    "## actives + inconclusives + decoys"
   ]
  },
  {
   "cell_type": "markdown",
   "metadata": {},
   "source": [
    "Decoy molecules where generated with DUD-E to enhance the feature extraction from the molecules. As seen in this paper, this aproach is used to make benchmark dataset, since this aproach test the models in its performance to distinguish between active molecules from similar inactive molecules with out bias.\n",
    "* Réau M, Langenfeld F, Zagury J-F, Lagarde N and Montes M (2018) Decoys Selection in Benchmarking Datasets: Overview and Perspectives. Front. Pharmacol. 9:11. doi: 10.3389/fphar.2018.00011\n",
    "\n",
    "Decoys were generated from the active molecules."
   ]
  },
  {
   "cell_type": "code",
   "execution_count": 15,
   "metadata": {},
   "outputs": [
    {
     "name": "stdout",
     "output_type": "stream",
     "text": [
      "There are 203 active molecules in the dataset\n",
      "There are 5246 inactive molecules in the dataset\n"
     ]
    }
   ],
   "source": [
    "df_actives = pd.read_csv('./procesed/actives/final_actives.csv')\n",
    "df_decoys = pd.read_csv('./procesed/actives/decoys/decoy_final.csv')\n",
    "df_inactives = pd.read_csv('./procesed/inactives/final_inactives.csv')\n",
    "df_new_positives = pd.read_csv('./procesed/inconclusives/new_positives.csv')\n",
    "\n",
    "print(f'There are {len(df_actives) + len(df_new_positives)} active molecules in the dataset')\n",
    "print(f'There are {len(df_inactives) + len(df_decoys)} inactive molecules in the dataset')"
   ]
  },
  {
   "cell_type": "code",
   "execution_count": 16,
   "metadata": {},
   "outputs": [],
   "source": [
    "df_concat = pd.concat([df_actives, df_decoys, df_inactives, df_new_positives]).sample(frac=1).sample(frac=1).sample(frac=1).sample(frac=1).reset_index(drop=True)\n",
    "df_concat_wo_dup = df_concat.drop_duplicates(subset=['Smiles'])"
   ]
  },
  {
   "cell_type": "code",
   "execution_count": 17,
   "metadata": {},
   "outputs": [
    {
     "name": "stdout",
     "output_type": "stream",
     "text": [
      "There are 5446 molecules in the dataset\n",
      "There are 4356 molecules in training dataset\n",
      "There are 1090 molecules in test dataset\n"
     ]
    }
   ],
   "source": [
    "df = df_concat_wo_dup.sample(frac = 1).sample(frac = 1).sample(frac = 1).sample(frac = 1).sample(frac = 1)\n",
    "\n",
    "# Spliting the data\n",
    "df_train, df_test = train_test_split(df, test_size=0.2)\n",
    "\n",
    "print(f'There are {len(df)} molecules in the dataset')\n",
    "print(f'There are {len(df_train)} molecules in training dataset')\n",
    "print(f'There are {len(df_test)} molecules in test dataset')\n"
   ]
  },
  {
   "cell_type": "code",
   "execution_count": 20,
   "metadata": {},
   "outputs": [
    {
     "name": "stdout",
     "output_type": "stream",
     "text": [
      "Ther are 163 different active molecules\n",
      "Ther are 4193 different inactive molecules\n",
      "Oversampling active ones\n",
      "Ther are 163 different active molecules\n",
      "Ther are 4193 different inactive molecules\n",
      " - - - - - - - - - - - - \n"
     ]
    }
   ],
   "source": [
    "df = df_train.copy()\n",
    "df = df.sample(frac=1).sample(frac=1) # Just a casual shuffling\n",
    "\n",
    "active = df['is_active'] == 1\n",
    "inactive = df['is_active'] == 0\n",
    "print(f'Ther are {len(df[active])} different active molecules')\n",
    "print(f'Ther are {len(df[inactive])} different inactive molecules')\n",
    "\n",
    "print('Oversampling active ones')\n",
    "\n",
    "# Actives\n",
    "# NOT OVERSAMPLING\n",
    "df_active = df[active].sample(frac=1, replace=True)\n",
    "\n",
    "# Inactives\n",
    "df_inactive = df[inactive].sample(frac=1)\n",
    "\n",
    "# Concatening\n",
    "df = pd.concat([df_active, df_inactive]).sample(frac=1).sample(frac=1).sample(frac=1)\n",
    "\n",
    "# Analizing again the active an inactive molecules\n",
    "active = df['is_active'] == 1\n",
    "inactive = df['is_active'] == 0\n",
    "print(f'Ther are {len(df[active])} different active molecules')\n",
    "print(f'Ther are {len(df[inactive])} different inactive molecules')\n",
    "\n",
    "print(' - - - - - - - - - - - - ')\n",
    "\n",
    "df_train_labeled = df[['Smiles', 'is_active']]\n",
    "df_train_labeled.to_csv('./data_for_training_and_testing/act_inc_dec/training_wdec_ds.csv', index=False)"
   ]
  },
  {
   "cell_type": "code",
   "execution_count": 19,
   "metadata": {},
   "outputs": [
    {
     "name": "stdout",
     "output_type": "stream",
     "text": [
      "Ther are 37 different active molecules\n",
      "Ther are 1053 different inactive molecules\n"
     ]
    }
   ],
   "source": [
    "df = df_test.copy()\n",
    "df = df.sample(frac=1) # Just a casual shuffling\n",
    "\n",
    "active = df['is_active'] == 1\n",
    "inactive = df['is_active'] == 0\n",
    "print(f'Ther are {len(df[active])} different active molecules')\n",
    "print(f'Ther are {len(df[inactive])} different inactive molecules')\n",
    "\n",
    "#df['is_active'] = np.where(df['pChEMBL Value'] >= active_cutoff, 1, 0)\n",
    "df_train_labeled = df[['Smiles', 'is_active']]\n",
    "df_train_labeled.to_csv('./data_for_training_and_testing/act_inc_dec/test_wdec_ds.csv', index=False)"
   ]
  }
 ],
 "metadata": {
  "interpreter": {
   "hash": "5dc3e6894ac7f54ace2baafe86d1e4be0e29ab37a077cca29b6a67094183ed1d"
  },
  "kernelspec": {
   "display_name": "Python 3 (ipykernel)",
   "language": "python",
   "name": "python3"
  },
  "language_info": {
   "codemirror_mode": {
    "name": "ipython",
    "version": 3
   },
   "file_extension": ".py",
   "mimetype": "text/x-python",
   "name": "python",
   "nbconvert_exporter": "python",
   "pygments_lexer": "ipython3",
   "version": "3.9.7"
  }
 },
 "nbformat": 4,
 "nbformat_minor": 2
}
